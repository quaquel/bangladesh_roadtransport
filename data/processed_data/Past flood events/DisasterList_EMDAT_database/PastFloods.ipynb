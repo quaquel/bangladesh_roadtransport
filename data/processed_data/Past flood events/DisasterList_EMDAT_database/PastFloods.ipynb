{
 "cells": [
  {
   "cell_type": "code",
   "execution_count": 1,
   "metadata": {
    "collapsed": true
   },
   "outputs": [],
   "source": [
    "import pandas as pd\n",
    "import geopandas as gpd\n",
    "import matplotlib.pyplot as plt\n",
    "import numpy as np\n",
    "\n",
    "import networkx as nx\n",
    "import os\n",
    "\n",
    "%matplotlib inline"
   ]
  },
  {
   "cell_type": "code",
   "execution_count": 2,
   "metadata": {},
   "outputs": [
    {
     "data": {
      "text/html": [
       "<div>\n",
       "<table border=\"1\" class=\"dataframe\">\n",
       "  <thead>\n",
       "    <tr style=\"text-align: right;\">\n",
       "      <th></th>\n",
       "      <th>Start date</th>\n",
       "      <th>End date</th>\n",
       "      <th>Country name</th>\n",
       "      <th>ISO</th>\n",
       "      <th>Location</th>\n",
       "      <th>Disaster type</th>\n",
       "      <th>Disaster subtype</th>\n",
       "      <th>Associated dis.</th>\n",
       "      <th>Associated dis2.</th>\n",
       "      <th>Total deaths</th>\n",
       "      <th>Total affected</th>\n",
       "      <th>Total damage</th>\n",
       "      <th>Insured loss</th>\n",
       "      <th>Disaster ID</th>\n",
       "    </tr>\n",
       "  </thead>\n",
       "  <tbody>\n",
       "    <tr>\n",
       "      <th>15</th>\n",
       "      <td>00/00/1960</td>\n",
       "      <td>00/00/1960.1</td>\n",
       "      <td>Bangladesh</td>\n",
       "      <td>BGD</td>\n",
       "      <td>Unnamed: 4</td>\n",
       "      <td>Flood</td>\n",
       "      <td>--</td>\n",
       "      <td>--</td>\n",
       "      <td>--</td>\n",
       "      <td>10000</td>\n",
       "      <td>--</td>\n",
       "      <td>--</td>\n",
       "      <td>--</td>\n",
       "      <td>1960-0001</td>\n",
       "    </tr>\n",
       "    <tr>\n",
       "      <th>22</th>\n",
       "      <td>00/07/1963</td>\n",
       "      <td>00/07/1963.1</td>\n",
       "      <td>Bangladesh</td>\n",
       "      <td>BGD</td>\n",
       "      <td>Unnamed: 4</td>\n",
       "      <td>Flood</td>\n",
       "      <td>--</td>\n",
       "      <td>--</td>\n",
       "      <td>--</td>\n",
       "      <td>30</td>\n",
       "      <td>--</td>\n",
       "      <td>--</td>\n",
       "      <td>--</td>\n",
       "      <td>1963-0069</td>\n",
       "    </tr>\n",
       "    <tr>\n",
       "      <th>25</th>\n",
       "      <td>00/07/1964</td>\n",
       "      <td>00/07/1964.1</td>\n",
       "      <td>Bangladesh</td>\n",
       "      <td>BGD</td>\n",
       "      <td>Rangpur, Comilla</td>\n",
       "      <td>Flood</td>\n",
       "      <td>--</td>\n",
       "      <td>--</td>\n",
       "      <td>--</td>\n",
       "      <td>--</td>\n",
       "      <td>1000000</td>\n",
       "      <td>5000</td>\n",
       "      <td>--</td>\n",
       "      <td>1964-0039</td>\n",
       "    </tr>\n",
       "    <tr>\n",
       "      <th>29</th>\n",
       "      <td>00/06/1966</td>\n",
       "      <td>00/06/1966.1</td>\n",
       "      <td>Bangladesh</td>\n",
       "      <td>BGD</td>\n",
       "      <td>Sylhet</td>\n",
       "      <td>Flood</td>\n",
       "      <td>--</td>\n",
       "      <td>--</td>\n",
       "      <td>--</td>\n",
       "      <td>39</td>\n",
       "      <td>500000</td>\n",
       "      <td>1000</td>\n",
       "      <td>--</td>\n",
       "      <td>1966-0047</td>\n",
       "    </tr>\n",
       "    <tr>\n",
       "      <th>34</th>\n",
       "      <td>00/07/1968</td>\n",
       "      <td>00/07/1968.1</td>\n",
       "      <td>Bangladesh</td>\n",
       "      <td>BGD</td>\n",
       "      <td>Nationwide, 5 Northern</td>\n",
       "      <td>Flood</td>\n",
       "      <td>--</td>\n",
       "      <td>--</td>\n",
       "      <td>--</td>\n",
       "      <td>221</td>\n",
       "      <td>15889616</td>\n",
       "      <td>199400</td>\n",
       "      <td>--</td>\n",
       "      <td>1968-0054</td>\n",
       "    </tr>\n",
       "  </tbody>\n",
       "</table>\n",
       "</div>"
      ],
      "text/plain": [
       "    Start date      End date Country name  ISO                  Location  \\\n",
       "15  00/00/1960  00/00/1960.1   Bangladesh  BGD                Unnamed: 4   \n",
       "22  00/07/1963  00/07/1963.1   Bangladesh  BGD                Unnamed: 4   \n",
       "25  00/07/1964  00/07/1964.1   Bangladesh  BGD          Rangpur, Comilla   \n",
       "29  00/06/1966  00/06/1966.1   Bangladesh  BGD                    Sylhet   \n",
       "34  00/07/1968  00/07/1968.1   Bangladesh  BGD  Nationwide, 5 Northern     \n",
       "\n",
       "   Disaster type Disaster subtype Associated dis. Associated dis2.  \\\n",
       "15         Flood               --              --               --   \n",
       "22         Flood               --              --               --   \n",
       "25         Flood               --              --               --   \n",
       "29         Flood               --              --               --   \n",
       "34         Flood               --              --               --   \n",
       "\n",
       "   Total deaths Total affected Total damage Insured loss Disaster ID  \n",
       "15        10000             --           --           --   1960-0001  \n",
       "22           30             --           --           --   1963-0069  \n",
       "25           --        1000000         5000           --   1964-0039  \n",
       "29           39         500000         1000           --   1966-0047  \n",
       "34          221       15889616       199400           --   1968-0054  "
      ]
     },
     "execution_count": 2,
     "metadata": {},
     "output_type": "execute_result"
    }
   ],
   "source": [
    "# === DISASTER LIST ===\n",
    "directory = 'D:/sibeleker/surfdrive/Documents/Bangladesh/DisasterList/' \n",
    "file = 'DisasterList_v2.xlsx'\n",
    "disaster_df = pd.read_excel(directory+file)\n",
    "disaster_df.head()"
   ]
  },
  {
   "cell_type": "code",
   "execution_count": 3,
   "metadata": {},
   "outputs": [
    {
     "data": {
      "text/plain": [
       "<matplotlib.axes._subplots.AxesSubplot at 0x8021c88>"
      ]
     },
     "execution_count": 3,
     "metadata": {},
     "output_type": "execute_result"
    },
    {
     "data": {
      "image/png": "[encoded data removed]",
      "text/plain": [
       "<matplotlib.figure.Figure at 0x7fd7748>"
      ]
     },
     "metadata": {},
     "output_type": "display_data"
    }
   ],
   "source": [
    "# ===DISTRICT BOUNDARIES ===\n",
    "directory_dist = 'D:/sibeleker/surfdrive/Shared/Worldbank Bangladesh/2_GIS_data/BGD_admin_boundaries_level_0123_GADM/'\n",
    "file_dist = 'BGD_adm2.shp'\n",
    "district_gdf = gpd.read_file(directory_dist+file_dist)\n",
    "district_gdf.plot()"
   ]
  },
  {
   "cell_type": "code",
   "execution_count": 4,
   "metadata": {},
   "outputs": [
    {
     "data": {
      "text/html": [
       "<div>\n",
       "<table border=\"1\" class=\"dataframe\">\n",
       "  <thead>\n",
       "    <tr style=\"text-align: right;\">\n",
       "      <th></th>\n",
       "      <th>Start date</th>\n",
       "      <th>End date</th>\n",
       "      <th>Location</th>\n",
       "      <th>Disaster ID</th>\n",
       "      <th>Disaster subtype</th>\n",
       "      <th>Duration</th>\n",
       "    </tr>\n",
       "  </thead>\n",
       "  <tbody>\n",
       "    <tr>\n",
       "      <th>15</th>\n",
       "      <td>00/00/1960</td>\n",
       "      <td>00/00/1960.1</td>\n",
       "      <td>Unnamed: 4</td>\n",
       "      <td>1960-0001</td>\n",
       "      <td>--</td>\n",
       "      <td>1.0</td>\n",
       "    </tr>\n",
       "    <tr>\n",
       "      <th>22</th>\n",
       "      <td>00/07/1963</td>\n",
       "      <td>00/07/1963.1</td>\n",
       "      <td>Unnamed: 4</td>\n",
       "      <td>1963-0069</td>\n",
       "      <td>--</td>\n",
       "      <td>1.0</td>\n",
       "    </tr>\n",
       "    <tr>\n",
       "      <th>25</th>\n",
       "      <td>00/07/1964</td>\n",
       "      <td>00/07/1964.1</td>\n",
       "      <td>Rangpur, Comilla</td>\n",
       "      <td>1964-0039</td>\n",
       "      <td>--</td>\n",
       "      <td>1.0</td>\n",
       "    </tr>\n",
       "    <tr>\n",
       "      <th>29</th>\n",
       "      <td>00/06/1966</td>\n",
       "      <td>00/06/1966.1</td>\n",
       "      <td>Sylhet</td>\n",
       "      <td>1966-0047</td>\n",
       "      <td>--</td>\n",
       "      <td>1.0</td>\n",
       "    </tr>\n",
       "    <tr>\n",
       "      <th>34</th>\n",
       "      <td>00/07/1968</td>\n",
       "      <td>00/07/1968.1</td>\n",
       "      <td>Nationwide, 5 Northern</td>\n",
       "      <td>1968-0054</td>\n",
       "      <td>--</td>\n",
       "      <td>1.0</td>\n",
       "    </tr>\n",
       "  </tbody>\n",
       "</table>\n",
       "</div>"
      ],
      "text/plain": [
       "    Start date      End date                  Location Disaster ID  \\\n",
       "15  00/00/1960  00/00/1960.1                Unnamed: 4   1960-0001   \n",
       "22  00/07/1963  00/07/1963.1                Unnamed: 4   1963-0069   \n",
       "25  00/07/1964  00/07/1964.1          Rangpur, Comilla   1964-0039   \n",
       "29  00/06/1966  00/06/1966.1                    Sylhet   1966-0047   \n",
       "34  00/07/1968  00/07/1968.1  Nationwide, 5 Northern     1968-0054   \n",
       "\n",
       "   Disaster subtype  Duration  \n",
       "15               --       1.0  \n",
       "22               --       1.0  \n",
       "25               --       1.0  \n",
       "29               --       1.0  \n",
       "34               --       1.0  "
      ]
     },
     "execution_count": 4,
     "metadata": {},
     "output_type": "execute_result"
    }
   ],
   "source": [
    "# make a new df, only for floods, with flood id, start and end date, duration, and the name of districts/upazilas affected\n",
    "from datetime import datetime\n",
    "\n",
    "flood_df = disaster_df[disaster_df['Disaster type']=='Flood']\n",
    "flood_df = flood_df[['Start date', 'End date', 'Location', 'Disaster ID', 'Disaster subtype']]\n",
    "for index,row in flood_df.iterrows():\n",
    "    if row['End date'].endswith('.1'):\n",
    "        flood_df.ix[index, 'Duration'] = 1\n",
    "    else:\n",
    "        start = datetime.strptime(row['Start date'], \"%d/%m/%Y\")\n",
    "        end = datetime.strptime(row['End date'], \"%d/%m/%Y\")#'%b %d %Y')\n",
    "        flood_df.ix[index, 'Duration'] = (end-start).days \n",
    "        #print(flood_df.ix[index, 'Duration'])\n",
    "flood_df.head()"
   ]
  },
  {
   "cell_type": "code",
   "execution_count": 10,
   "metadata": {},
   "outputs": [
    {
     "name": "stdout",
     "output_type": "stream",
     "text": [
      "['Bagerhat', 'Bandarban', 'Barguna', 'Barisal', 'Bhola', 'Bogra', 'Brahmanbaria', 'Chandpur', 'Chittagong', 'Chuadanga', 'Comilla', \"Cox's Bazar\", 'Dhaka', 'Dinajpur', 'Faridpur', 'Feni', 'Gaibandha', 'Gazipur', 'Gopalganj', 'Habiganj', 'Jamalpur', 'Jessore', 'Jhalokati', 'Jhenaidah', 'Joypurhat', 'Khagrachhari', 'Khulna', 'Kishoreganj', 'Kurigram', 'Kushtia', 'Lakshmipur', 'Lalmonirhat', 'Madaripur', 'Magura', 'Manikganj', 'Meherpur', 'Moulvibazar', 'Munshiganj', 'Mymensingh', 'Naogaon', 'Narail', 'Narayanganj', 'Narsingdi', 'Natore', 'Nawabganj', 'Netrakona', 'Nilphamari', 'Noakhali', 'Pabna', 'Panchagarh', 'Patuakhali', 'Pirojpur', 'Rajbari', 'Rajshahi', 'Rangamati', 'Rangpur', 'Satkhira', 'Shariatpur', 'Sherpur', 'Sirajganj', 'Sunamganj', 'Sylhet', 'Tangail', 'Thakurgaon']\n",
      "64\n"
     ]
    }
   ],
   "source": [
    "file_dist = 'list-districts-bangladesh.xlsx'\n",
    "district_df = pd.read_excel(directory+file_dist)\n",
    "correct_districts = list(district_df['District'])\n",
    "correct_districts = sorted(correct_districts[:-4])\n",
    "print(correct_districts)\n",
    "print(len(correct_districts))"
   ]
  },
  {
   "cell_type": "code",
   "execution_count": 6,
   "metadata": {},
   "outputs": [],
   "source": [
    "districts = list(district_gdf['NAME_2'])\n",
    "#upazilas = list(upazila_gdf['NAME_3'])"
   ]
  },
  {
   "cell_type": "code",
   "execution_count": 13,
   "metadata": {},
   "outputs": [
    {
     "name": "stdout",
     "output_type": "stream",
     "text": [
      "Bandarbon Bandarban\n",
      "Gaibanda Gaibandha\n",
      "Gopalgonj Gopalganj\n",
      "Hobiganj Habiganj\n",
      "Manikgonj Manikganj\n",
      "Munshigonj Munshiganj\n",
      "Rongpur Rangpur\n",
      "Sirajgonj Sirajganj\n"
     ]
    }
   ],
   "source": [
    "districts = sorted(districts)\n",
    "#print(districts)\n",
    "for d1, d2 in zip(districts, correct_districts):\n",
    "    if d1 != d2:\n",
    "        if different_characters(d1,d2)[0] == 1:\n",
    "            print(d1,d2)\n",
    "            district_gdf.loc[district_gdf['NAME_2'] == d1, 'NAME_2'] = d2\n",
    "            #district_gdf.replace({d1:d2}, regex=True)\n",
    "#print(sorted(list(district_gdf['NAME_2'])))\n",
    "#CORRECT THE DISTRICT NAME COLUMN OF DISTRICT_GDF\n",
    "#if the gdf name is not in coorect names\n",
    "#\n",
    "#district_gdf['NAME_2'] = \n",
    "#CORRECT THE .."
   ]
  },
  {
   "cell_type": "code",
   "execution_count": 14,
   "metadata": {},
   "outputs": [
    {
     "name": "stdout",
     "output_type": "stream",
     "text": [
      "{'Bogra': 'BO', 'Pirojpur': 'PR', 'Rajshahi': 'RS', 'Netrakona': 'NK', 'Chittagong': 'CT', 'Manikganj': 'MK', 'Choua Danga': 'CD', 'Jaipurhat': 'JP', 'Moulvibazar': 'MB', 'Chandpur': 'CP', 'Habiganj': 'HA', 'Jhalakati': 'JK', 'Lakshmipur': 'LK', 'Kurigram': 'KR', 'Gaibandha': 'GB', 'Naogaon': 'NA', 'Magura': 'MG', 'Lalmonirhat': 'LL', 'Dhaka': 'DH', 'Borgona': 'BG', 'Khulna': 'KL', 'Naray Angonj': 'NY', 'Gazipur': 'GZ', 'Jhenaidah': 'JN', 'Bandarban': 'BD', 'Dinajpur': 'DJ', 'Rajbari': 'RB', 'Kustia': 'KU', 'Panchagarh': 'PN', 'Meherpur': 'ME', 'Thakurgaon': 'TH', 'Khagrachari': 'KG', 'Noakhali': 'NO', 'Narail': 'NR', 'Shariatpur': 'SA', 'Natore': 'NT', 'Bhola': 'BL', 'Faridpur': 'FR', 'Barisal': 'BS', 'Madaripur': 'MD', 'Sherpur': 'SP', 'Rangpur': 'RP', 'Patuakhali': 'PT', 'Shatkhira': 'ST', 'Kishoreganj': 'KS', 'Nasirabad': 'MM', 'Brahmanbaria': 'BB', 'Feni': 'FN', 'Jessore': 'JS', 'Bagerhat': 'BH', 'Munshiganj': 'MU', 'Gopalganj': 'GG', 'Sun Amgonj': 'SN', 'Nawabganj': 'NW', 'Comilla': 'CM', 'Tangail': 'TA', \"Cox's Bazar\": 'CB', 'Sylhet': 'SL', 'Jamalpur': 'JM', 'Pabna': 'PB', 'Parbattya Chattagram': 'PC', 'Nilphamari': 'NP', 'Sirajganj': 'SR', 'Narshingdi': 'NS'}\n"
     ]
    }
   ],
   "source": [
    "codes = {}\n",
    "for index, row in district_gdf.iterrows():\n",
    "    dist_name = row['NAME_2']\n",
    "    dist_code = row['HASC_2'].split('.')[-1]\n",
    "    codes[dist_name] = dist_code\n",
    "print(codes)    "
   ]
  },
  {
   "cell_type": "code",
   "execution_count": 29,
   "metadata": {},
   "outputs": [],
   "source": [
    "code_df = pd.DataFrame.from_dict(codes, orient='index')\n",
    "code_df.to_excel(directory+'District_codes.xlsx')"
   ]
  },
  {
   "cell_type": "code",
   "execution_count": 12,
   "metadata": {
    "collapsed": true
   },
   "outputs": [],
   "source": [
    "def different_characters(str1, str2):\n",
    "    count = 0\n",
    "    diff = []\n",
    "    l1 = len(str1)\n",
    "    l2 = len(str2)\n",
    "    if l1 == l2:\n",
    "        for c1, c2 in zip(str1, str2):\n",
    "            if c1 != c2:\n",
    "                count += 1\n",
    "                diff.append(c1)\n",
    "    else:\n",
    "        for i in range(min(l1, l2)):\n",
    "            if str1[i] != str2[i]:\n",
    "                count += 1\n",
    "                diff.append(str1[i])\n",
    "    return count, diff"
   ]
  },
  {
   "cell_type": "code",
   "execution_count": 16,
   "metadata": {},
   "outputs": [],
   "source": [
    "district_correction = {'Habaganj':'Habiganj',\n",
    "                       'Rajbari district' : 'Rajbari',\n",
    "                       'Mymensing': 'Mymensingh',\n",
    "                       'Netrokona': 'Netrakona',\n",
    "                       'Lalmonirat':'Lalmonirhat',\n",
    "                       'Narayangani': 'Narayanganj',\n",
    "                       'Gaibanda':'Gaibandha',\n",
    "                       'Sariatpur':'Shariatpur',\n",
    "                       'Panchagar':'Panchagarh',\n",
    "                       'Maulvibazar':'Moulvibazar',\n",
    "                       'Coxbazar':\"Cox's Bazar\",\n",
    "                       'Nilhamari':'Nilphamari',\n",
    "                       'Sirajangj':'Sirajganj',\n",
    "                       'Patuakhil':'Patuakhali',\n",
    "                       'Moulavibazar':'Moulvibazar',\n",
    "                       'Noahkali':'Noakhali',\n",
    "                       'Brahmambaria':'Brahmanbaria',\n",
    "                       'Hobiganj':'Habiganj',\n",
    "                       'Brahamanbaria':'Brahmanbaria',\n",
    "                       'Manikanj':'Manikganj',\n",
    "                       'Kurigram a Nil':'Kurigram',\n",
    "                       'Nilpamari':'Nilphamari',\n",
    "                       'Chitagong':'Chittagong',\n",
    "                       'Noagaon':'Naogaon',\n",
    "                       'Serajganj':'Sirajganj',\n",
    "                       \"Cox's Bazaar\":\"Cox's Bazar\"}"
   ]
  },
  {
   "cell_type": "code",
   "execution_count": 17,
   "metadata": {},
   "outputs": [
    {
     "name": "stdout",
     "output_type": "stream",
     "text": [
      "77\n"
     ]
    }
   ],
   "source": [
    "flood_df = flood_df[flood_df['Location'] != 'Unnamed: 4']\n",
    "print(len(flood_df.index))\n",
    "locations = {}\n",
    "for index,row in flood_df.iterrows():\n",
    "    locations[row['Disaster ID']] = []\n",
    "    loc = row['Location'].split(',')\n",
    "    for i,dist in enumerate(loc):\n",
    "        if dist.startswith(' '):\n",
    "            loc[i] = dist.strip()\n",
    "        if loc[i] in district_correction.keys():\n",
    "            locations[row['Disaster ID']].append(district_correction[loc[i]])\n",
    "        else:\n",
    "            locations[row['Disaster ID']].append(loc[i])\n",
    "    #print(loc)\n",
    "    #subset = set(loc).issubset(set(districts))\n",
    "    #print(subset)\n",
    "    #flood_df.ix[index, 'Location'] = str(loc)\n",
    "\n",
    "    "
   ]
  },
  {
   "cell_type": "code",
   "execution_count": 18,
   "metadata": {},
   "outputs": [
    {
     "name": "stdout",
     "output_type": "stream",
     "text": [
      "77\n"
     ]
    }
   ],
   "source": [
    "print(len(locations.keys()))"
   ]
  },
  {
   "cell_type": "code",
   "execution_count": 19,
   "metadata": {},
   "outputs": [
    {
     "name": "stdout",
     "output_type": "stream",
     "text": [
      "77\n",
      "68\n"
     ]
    }
   ],
   "source": [
    "to_remove = []\n",
    "print(len(locations.keys()))\n",
    "for key, value in locations.items():\n",
    "    #print(key, value)\n",
    "    for loc in value:\n",
    "        if loc in districts or loc in correct_districts:\n",
    "            #district_gdf['flooded'][district_gdf['NAME_2']==loc] = 1\n",
    "            pass\n",
    "        else:\n",
    "            value.remove(loc)\n",
    "    if not value:\n",
    "        to_remove.append(key)\n",
    "for key in to_remove:\n",
    "    del locations[key]\n",
    "print(len(locations.keys()))"
   ]
  },
  {
   "cell_type": "code",
   "execution_count": 22,
   "metadata": {},
   "outputs": [
    {
     "name": "stdout",
     "output_type": "stream",
     "text": [
      "61\n"
     ]
    }
   ],
   "source": [
    "# convert locations to codes:\n",
    "loc_codes = {}\n",
    "for key, value in locations.items():\n",
    "    new_value = []\n",
    "    for v in value:\n",
    "        if v in codes.keys():\n",
    "            new_value.append(codes[v])\n",
    "    if new_value:\n",
    "        loc_codes[key] = new_value\n",
    "print(len(loc_codes.keys()))"
   ]
  },
  {
   "cell_type": "code",
   "execution_count": 26,
   "metadata": {},
   "outputs": [],
   "source": [
    "loc_df = pd.DataFrame.from_dict(loc_codes, orient='index')\n",
    "loc_df.columns = ['Flood_id'] + ['Districts'] * 24\n",
    "loc_df.to_csv(directory+'flood_locations.csv')"
   ]
  },
  {
   "cell_type": "code",
   "execution_count": 20,
   "metadata": {},
   "outputs": [
    {
     "name": "stdout",
     "output_type": "stream",
     "text": [
      "2003-0283 27\n"
     ]
    }
   ],
   "source": [
    "maks=max(locations, key=lambda k: len(locations[k]))\n",
    "print(maks, len(locations[maks]))"
   ]
  },
  {
   "cell_type": "code",
   "execution_count": 54,
   "metadata": {},
   "outputs": [],
   "source": [
    "# for key, value in locations.items():\n",
    "#     if len(value) < 27:\n",
    "#         new_value = [None] * 27\n",
    "#         for i,v in enumerate(value):\n",
    "#             new_value[i] = v\n",
    "#         locations[key] = new_value\n",
    "for key, value in locations.items():\n",
    "    #print(value)\n",
    "    new_value = ', '.join(value)\n",
    "    #print(new_value)\n",
    "    locations[key] = new_value\n",
    "loc = pd.DataFrame.from_dict(locations, orient='index')\n",
    "loc.to_excel(directory+'locations_v2.xlsx')"
   ]
  },
  {
   "cell_type": "code",
   "execution_count": null,
   "metadata": {
    "scrolled": true
   },
   "outputs": [],
   "source": [
    "district_gdf['flooded'] = 0\n",
    "for key, value in locations.items():\n",
    "    print(key, value)\n",
    "    for loc in value:\n",
    "        if loc in districts or loc in correct_districts:\n",
    "            district_gdf['flooded'][district_gdf['NAME_2']==loc] = 1\n",
    "    \n",
    "    new_gdf = district_gdf[district_gdf['flooded'] == 1]\n",
    "    \n",
    "    if not new_gdf.empty:\n",
    "        fn = directory+'ShpFiles/'+'{}.shp'.format(key)\n",
    "        new_gdf.to_file(filename=fn)\n",
    "    \n",
    "        fig, ax = plt.subplots(figsize=(6, 8))\n",
    "\n",
    "        new_gdf['coords'] = new_gdf['geometry'].apply(lambda x: x.representative_point().coords[:])\n",
    "        new_gdf['coords'] = [coords[0] for coords in new_gdf['coords']]\n",
    "\n",
    "        district_gdf.plot(ax=ax, color='white', linewidth=0.1)\n",
    "        new_gdf.plot(ax=ax, color='orange', linewidth=0.1)\n",
    "\n",
    "        for idx, row in new_gdf.iterrows():\n",
    "            plt.annotate(s=row['NAME_2'], xy=row['coords'],\n",
    "                     ha='center', va='center', fontsize=8, rotation=30)\n",
    "        ax.set_axis_off()\n",
    "        start = flood_df.loc[flood_df['Disaster ID'] == key, 'Start date'].iloc[0]\n",
    "        typ = flood_df.loc[flood_df['Disaster ID'] == key, 'Disaster subtype'].iloc[0]\n",
    "        title = \"Flood {}, started on {}, {}\".format(key, start, typ)\n",
    "        ax.set_title(title, fontsize=12)\n",
    "\n",
    "        district_gdf['flooded'] = 0\n",
    "\n",
    "        plt.savefig(directory+'Figures/'+\"{}.png\".format(key), dpi=300)\n",
    "    #plt.show()\n"
   ]
  },
  {
   "cell_type": "code",
   "execution_count": null,
   "metadata": {
    "collapsed": true
   },
   "outputs": [],
   "source": [
    "#to do\n",
    "# correct the names and re-plot\n",
    "# upazila level data points, so read the upazila shape file\n",
    "# animation or plot upon input"
   ]
  },
  {
   "cell_type": "code",
   "execution_count": null,
   "metadata": {
    "collapsed": true
   },
   "outputs": [],
   "source": []
  },
  {
   "cell_type": "code",
   "execution_count": null,
   "metadata": {
    "collapsed": true
   },
   "outputs": [],
   "source": []
  }
 ],
 "metadata": {
  "anaconda-cloud": {},
  "kernelspec": {
   "display_name": "Python 3",
   "language": "python",
   "name": "python3"
  },
  "language_info": {
   "codemirror_mode": {
    "name": "ipython",
    "version": 3
   },
   "file_extension": ".py",
   "mimetype": "text/x-python",
   "name": "python",
   "nbconvert_exporter": "python",
   "pygments_lexer": "ipython3",
   "version": "3.6.1"
  }
 },
 "nbformat": 4,
 "nbformat_minor": 1
}
